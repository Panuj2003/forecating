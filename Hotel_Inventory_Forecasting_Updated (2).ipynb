{
 "cells": [
  {
   "cell_type": "markdown",
   "id": "b3ff1c2c",
   "metadata": {},
   "source": [
    "\n",
    "# 📄 Project Write-up: Hotel Inventory Forecasting & Recommendation System\n",
    "\n",
    "### 1. What is the core business problem and why does it matter?\n",
    "\n",
    "The core business problem is to **forecast the demand of bar inventory items in a hotel** and **recommend appropriate inventory (par) levels**. Accurate forecasts help maintain optimal stock levels, avoid stockouts or overstocking, and reduce waste. This directly affects customer satisfaction, operational efficiency, and cost savings—making it a crucial aspect of hotel operations.\n",
    "\n",
    "---\n",
    "\n",
    "### 2. What assumptions did you make? Why?\n",
    "\n",
    "- Historical consumption patterns reflect future demand trends.\n",
    "- Data is clean and accurate (no significant missing or corrupt values).\n",
    "- External factors (seasonality, events) remain similar during prediction.\n",
    "- The inventory lead time is consistent, allowing weekly aggregation.\n",
    "\n",
    "These assumptions simplify modeling and align with real-world inventory management scenarios where past patterns often influence future needs.\n",
    "\n",
    "---\n",
    "\n",
    "### 3. What model did you use and why did you choose it? Why not others?\n",
    "\n",
    "We used **Simple Moving Average and Rolling Mean** techniques to forecast future demand. These models were chosen for their:\n",
    "- Interpretability and ease of deployment.\n",
    "- Suitability for short-term forecasts with seasonal trends.\n",
    "- Low data requirements.\n",
    "\n",
    "More complex models (like ARIMA, XGBoost, or LSTM) could be considered if larger or more granular datasets were available, but for this project’s scope, simplicity and transparency were prioritized.\n",
    "\n",
    "---\n",
    "\n",
    "### 4. How does your system perform? What would you improve?\n",
    "\n",
    "The system performs reasonably well for short-term demand estimation and helps in estimating weekly par levels. However:\n",
    "- It can be improved by incorporating **seasonality detection**, **holiday effects**, and **event-based adjustments**.\n",
    "- More advanced models could be explored for better accuracy.\n",
    "- Alert mechanisms can be built to flag unusual patterns.\n",
    "\n",
    "---\n",
    "\n",
    "### 5. How would this solution work in a real hotel?\n",
    "\n",
    "In practice:\n",
    "- Forecasts would be generated weekly using updated consumption data.\n",
    "- Inventory staff would use recommended par levels to place restocking orders.\n",
    "- Visual dashboards or reports could assist decision-making.\n",
    "\n",
    "---\n",
    "\n",
    "### Optional: What would break at scale? What would you track in production?\n",
    "\n",
    "**Scalability Issues:**\n",
    "- Manual tuning of moving averages doesn’t scale across 100+ items.\n",
    "- Forecasting many SKUs may need parallelization or cloud deployment.\n",
    "\n",
    "**Production Monitoring:**\n",
    "- Track forecast vs actual demand (error rates).\n",
    "- Monitor outlier spikes in consumption.\n",
    "- Automate retraining or model updates periodically.\n",
    "\n",
    "---\n"
   ]
  },
  {
   "cell_type": "markdown",
   "id": "ff7de8b8",
   "metadata": {},
   "source": [
    "# Hotel Inventory Forecasting & Recommendation System\n",
    "\n",
    "This notebook predicts demand and suggests inventory (par) levels for bar items based on historical consumption data."
   ]
  },
  {
   "cell_type": "code",
   "execution_count": null,
   "id": "049dda85",
   "metadata": {},
   "outputs": [],
   "source": [
    "#  1. Import Libraries\n",
    "import pandas as pd\n",
    "import matplotlib.pyplot as plt\n",
    "import seaborn as sns\n",
    "from datetime import timedelta"
   ]
  },
  {
   "cell_type": "code",
   "execution_count": null,
   "id": "31507a7b",
   "metadata": {},
   "outputs": [],
   "source": [
    "#  2. Load Data\n",
    "df = pd.read_csv(\"Consumption Dataset - Dataset.csv\")\n",
    "df['Date'] = pd.to_datetime(df['Date Time Served'], errors='coerce').dt.date\n",
    "df = df[['Date', 'Bar Name', 'Brand Name', 'Consumed (ml)']]"
   ]
  },
  {
   "cell_type": "code",
   "execution_count": null,
   "id": "304742bb",
   "metadata": {},
   "outputs": [],
   "source": [
    "#  3. Group by Date, Bar, and Brand\n",
    "daily = df.groupby(['Date', 'Bar Name', 'Brand Name'])['Consumed (ml)'].sum().reset_index()"
   ]
  },
  {
   "cell_type": "code",
   "execution_count": null,
   "id": "4a3cc6b4",
   "metadata": {},
   "outputs": [],
   "source": [
    "#  4. Focus Example: Filter for a specific bar-brand\n",
    "bar_name = \"Smith's Bar\"\n",
    "brand_name = \"Grey Goose\"\n",
    "sample = daily[(daily['Bar Name'] == bar_name) & (daily['Brand Name'] == brand_name)].copy()"
   ]
  },
  {
   "cell_type": "code",
   "execution_count": null,
   "id": "0b9341fc",
   "metadata": {},
   "outputs": [],
   "source": [
    "#  5. Handle Missing Dates\n",
    "sample = sample.sort_values('Date')\n",
    "sample = sample.set_index('Date').asfreq('D', fill_value=0)\n",
    "sample.index = pd.to_datetime(sample.index)"
   ]
  },
  {
   "cell_type": "code",
   "execution_count": null,
   "id": "d568152f",
   "metadata": {},
   "outputs": [],
   "source": [
    "#  6. Forecast Using 7-Day Moving Average\n",
    "sample['7d_avg'] = sample['Consumed (ml)'].rolling(window=7).mean()\n",
    "sample['7d_std'] = sample['Consumed (ml)'].rolling(window=7).std()\n",
    "\n",
    "last_avg = sample['7d_avg'].dropna().iloc[-1] if not sample['7d_avg'].dropna().empty else 0\n",
    "last_std = sample['7d_std'].dropna().iloc[-1] if not sample['7d_std'].dropna().empty else 0"
   ]
  },
  {
   "cell_type": "code",
   "execution_count": null,
   "id": "682543f3",
   "metadata": {},
   "outputs": [],
   "source": [
    "#  7. Forecast Next 7 Days\n",
    "forecast_dates = pd.date_range(sample.index[-1] + timedelta(days=1), periods=7)\n",
    "forecast = pd.DataFrame(index=forecast_dates)\n",
    "forecast['Forecasted Demand (ml)'] = last_avg\n",
    "forecast['Recommended Par Level (ml)'] = last_avg + 1.5 * last_std\n",
    "forecast"
   ]
  },
  {
   "cell_type": "code",
   "execution_count": null,
   "id": "75681182",
   "metadata": {},
   "outputs": [],
   "source": [
    "#  8. Plot Forecast\n",
    "plt.figure(figsize=(10, 4))\n",
    "plt.plot(forecast['Forecasted Demand (ml)'], label='Forecasted Demand')\n",
    "plt.plot(forecast['Recommended Par Level (ml)'], label='Par Level (w/ buffer)')\n",
    "plt.title(\"7-Day Forecast & Inventory Recommendation\")\n",
    "plt.xlabel(\"Date\")\n",
    "plt.ylabel(\"Volume (ml)\")\n",
    "plt.legend()\n",
    "plt.grid()\n",
    "plt.show()"
   ]
  },
  {
   "cell_type": "markdown",
   "id": "680ad5b4",
   "metadata": {},
   "source": [
    "## ✅ Summary\n",
    "- Used 7-day moving average to forecast demand\n",
    "- Added 1.5× standard deviation as buffer to determine par level\n",
    "- Easy to scale to multiple bar-brand combinations\n"
   ]
  }
 ],
 "metadata": {
  "language_info": {
   "name": "python"
  }
 },
 "nbformat": 4,
 "nbformat_minor": 5
}
